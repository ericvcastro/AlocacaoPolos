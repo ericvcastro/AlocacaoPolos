{
 "cells": [
  {
   "cell_type": "code",
   "execution_count": 2,
   "id": "7e1c1b26",
   "metadata": {},
   "outputs": [],
   "source": [
    "from IPython import get_ipython\n",
    "get_ipython().run_line_magic('matplotlib','qt')"
   ]
  },
  {
   "cell_type": "code",
   "execution_count": 10,
   "id": "bbb7c492",
   "metadata": {},
   "outputs": [],
   "source": [
    "import numpy as np\n",
    "import math\n",
    "import matplotlib.pyplot as plt\n",
    "import control as ctrl\n",
    "from control.matlab import *\n",
    "import scipy.linalg as la\n",
    "import sympy as sym"
   ]
  },
  {
   "cell_type": "code",
   "execution_count": 8,
   "id": "561c427b",
   "metadata": {},
   "outputs": [],
   "source": [
    "R=1\n",
    "L=1e-3\n",
    "Cap=150e-6\n",
    "\n",
    "A=np.array([[0, 1/Cap],[-1/L, -R/L]])\n",
    "B=np.array([[0],[1/L]])\n",
    "C=np.array([[1,0]])\n",
    "D=np.array([[0]])\n",
    "sys=ss(A, B, C, D)"
   ]
  },
  {
   "cell_type": "code",
   "execution_count": 11,
   "id": "ee687f45",
   "metadata": {},
   "outputs": [
    {
     "name": "stdout",
     "output_type": "stream",
     "text": [
      "[-500.+2533.1140256j -500.-2533.1140256j]\n"
     ]
    }
   ],
   "source": [
    "polos=la.eigvals(A)\n",
    "print(polos)"
   ]
  },
  {
   "cell_type": "code",
   "execution_count": 12,
   "id": "326ecd80",
   "metadata": {},
   "outputs": [
    {
     "name": "stdout",
     "output_type": "stream",
     "text": [
      "2\n"
     ]
    }
   ],
   "source": [
    "M=ctrb(A,B)\n",
    "print(np.linalg.matrix_rank(M))"
   ]
  },
  {
   "cell_type": "code",
   "execution_count": 13,
   "id": "13de19ca",
   "metadata": {},
   "outputs": [
    {
     "name": "stdout",
     "output_type": "stream",
     "text": [
      "[[8.600e-06 4.164e+00]]\n"
     ]
    }
   ],
   "source": [
    "polos_desejados=[-2582, -2582]\n",
    "K=acker(A, B, polos_desejados)\n",
    "print(K)"
   ]
  },
  {
   "cell_type": "code",
   "execution_count": 14,
   "id": "0cfbc5fd",
   "metadata": {},
   "outputs": [
    {
     "name": "stdout",
     "output_type": "stream",
     "text": [
      "[-2581.99996107+0.j -2582.00003893+0.j]\n"
     ]
    }
   ],
   "source": [
    "polosMF=la.eigvals(A-B@K)\n",
    "print(polosMF)"
   ]
  },
  {
   "cell_type": "code",
   "execution_count": 16,
   "id": "52ca64c1",
   "metadata": {},
   "outputs": [
    {
     "name": "stdout",
     "output_type": "stream",
     "text": [
      "A = [[    0.          6666.66666667]\n",
      "     [-1000.0086     -5164.        ]]\n",
      "\n",
      "B = [[0.]\n",
      "     [0.]]\n",
      "\n",
      "C = [[1. 0.]]\n",
      "\n",
      "D = [[0.]]\n",
      "\n"
     ]
    }
   ],
   "source": [
    "Amf=A-B@K\n",
    "Bmf=np.zeros((2,1))\n",
    "Cmf=C\n",
    "Dmf=D\n",
    "sysMF=ss(Amf, Bmf, Cmf, Dmf)\n",
    "print(sysMF)"
   ]
  },
  {
   "cell_type": "code",
   "execution_count": null,
   "id": "cedb415f",
   "metadata": {},
   "outputs": [],
   "source": []
  }
 ],
 "metadata": {
  "kernelspec": {
   "display_name": "Python 3 (ipykernel)",
   "language": "python",
   "name": "python3"
  },
  "language_info": {
   "codemirror_mode": {
    "name": "ipython",
    "version": 3
   },
   "file_extension": ".py",
   "mimetype": "text/x-python",
   "name": "python",
   "nbconvert_exporter": "python",
   "pygments_lexer": "ipython3",
   "version": "3.8.10"
  }
 },
 "nbformat": 4,
 "nbformat_minor": 5
}
